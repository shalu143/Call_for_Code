{
 "cells": [
  {
   "cell_type": "code",
   "execution_count": null,
   "id": "92358727",
   "metadata": {},
   "outputs": [],
   "source": [
    "def ESG_extract(ticker_list):\n",
    "    \n",
    "    '''This function takes company ticker list as input and outputs the ESG scores as a list. \n",
    "        Please note, we use publicly available data from Yahoo Finance website-\n",
    "        Source: https://in.finance.yahoo.com'''\n",
    "    \n",
    "    import time\n",
    "    import requests\n",
    "    import numpy as np\n",
    "    from bs4 import BeautifulSoup\n",
    "    from my_fake_useragent import UserAgent\n",
    "    temp_user_agent = UserAgent(family='chrome')\n",
    "    browser_header = {'User-Agent': temp_user_agent.random()}\n",
    "    \n",
    "    esg_score=[]\n",
    "    for ticker in ticker_list:\n",
    "        url = 'https://in.finance.yahoo.com/quote/{}/sustainability?p={}&.tsrc=fin-srch'.format(ticker, ticker)\n",
    "        response = requests.get(url, headers-browser_header, verify=False)\n",
    "        soup = BeautifulSoup(response.text, 'html.parser')\n",
    "        esg = soup.find('div', {'class':'Fz(36px) Fw(600) D(ib) Mend(5px)' })\n",
    "        if esg is None:\n",
    "            esg_score.append(0)\n",
    "            #print(ticker +' ESG O')\n",
    "        else:\n",
    "            esg_score.append(esg.text)\n",
    "            #print(ticker +' ESG' + esg.text)\n",
    "        del soup, response\n",
    "        time.sleep(np.random.choice(30))\n",
    "        \n",
    "    return esg_score"
   ]
  }
 ],
 "metadata": {
  "kernelspec": {
   "display_name": "Python 3",
   "language": "python",
   "name": "python3"
  },
  "language_info": {
   "codemirror_mode": {
    "name": "ipython",
    "version": 3
   },
   "file_extension": ".py",
   "mimetype": "text/x-python",
   "name": "python",
   "nbconvert_exporter": "python",
   "pygments_lexer": "ipython3",
   "version": "3.9.5"
  }
 },
 "nbformat": 4,
 "nbformat_minor": 5
}
