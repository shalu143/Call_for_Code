{
 "cells": [
  {
   "cell_type": "code",
   "execution_count": null,
   "id": "d8e354ef",
   "metadata": {},
   "outputs": [],
   "source": [
    "def sentiment (Search):\n",
    "    '''Sentiment function takes in search_term and outputs the positive sentiment after querying Watson Discovery.\n",
    "        Please make sure to add the API_key and appropriate URL to use this yourself'''\n",
    "    \n",
    "    API Key =' '\n",
    "    URL = ' '\n",
    "    version = ' '\n",
    "    #connect to Watson using cURL\n",
    "    !curl -o output.json --write-out '%{json)' -u \"apikey\":\"{API_Key}\" \"{URL}/v1/environments/system/collections/news-en/query?version={version}&aggregation-filter%28enriched_text.entities.type%3A%3ACompany%2C%28enriched_text.concepts.text%3A%22Sustainability%22%7Cenriched text.concepts.text%3A%22Pollution%22%7Cenriched_text.concepts.text%3A%22ESG%22%7Cenriched_text.concepts.text%3A%22Environment%22%7Cenriched_text.concepts.text%3A%22Eco-friendly%22%7Cenriched_text.concepts.text%3A%22Green%22%7Cenriched_text.concepts.text%3A%22Harm%22%7Cenriched_text.concepts.text%3A%22Damage%22%7Cenriched_text.concepts.text%3A%22Protest%22%29%29.term%28enriched_text.sentiment.document.label%2Ccount%3A3%29&filter={Search}\" --insecure --\n",
    "    \n",
    "    with open('output.json') as f:\n",
    "        output = json.load(f)\n",
    "    #output['aggregations']\n",
    "    pos = 0\n",
    "    neg = 0\n",
    "    neu = 0\n",
    "    \n",
    "    #Extract positive, negative and neutral sentiment out of json output\n",
    "    for l1 in output['aggregations']:\n",
    "        for l2 in l1['aggregations']:\n",
    "            for l3 in l2['results']:\n",
    "                if l3['key'] == 'positive':\n",
    "                    pos=l3['matching results']\n",
    "                    #print(pos)\n",
    "                if l3['key']=='negative':\n",
    "                    neg=l3['matching_results']\n",
    "                    #print(neg)\n",
    "                if l3['key']=='neutral':\n",
    "                    neu=l3['matching_results']\n",
    "                    #print(neu)\n",
    "    \n",
    "    #While calculating % if denominator is 0, assign default 0.5\n",
    "    if (pos+neg+neu)==0:\n",
    "        PosPerc = 0.5\n",
    "    else:\n",
    "        PosPerc = pos/(post+neg+neu).\n",
    "    \n",
    "    return PosPerc\n"
   ]
  }
 ],
 "metadata": {
  "kernelspec": {
   "display_name": "Python 3",
   "language": "python",
   "name": "python3"
  },
  "language_info": {
   "codemirror_mode": {
    "name": "ipython",
    "version": 3
   },
   "file_extension": ".py",
   "mimetype": "text/x-python",
   "name": "python",
   "nbconvert_exporter": "python",
   "pygments_lexer": "ipython3",
   "version": "3.9.5"
  }
 },
 "nbformat": 4,
 "nbformat_minor": 5
}
